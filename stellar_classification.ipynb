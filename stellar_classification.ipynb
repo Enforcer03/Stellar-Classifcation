{
 "cells": [
  {
   "cell_type": "markdown",
   "metadata": {},
   "source": [
    "    STELLAR CLASSIFICATION"
   ]
  },
  {
   "cell_type": "code",
   "execution_count": 1,
   "metadata": {},
   "outputs": [],
   "source": [
    "import numpy as np\n",
    "import pandas as pd\n",
    "import matplotlib.pyplot as plt\n",
    "import sklearn"
   ]
  },
  {
   "cell_type": "code",
   "execution_count": 2,
   "metadata": {},
   "outputs": [
    {
     "data": {
      "text/html": [
       "<div>\n",
       "<style scoped>\n",
       "    .dataframe tbody tr th:only-of-type {\n",
       "        vertical-align: middle;\n",
       "    }\n",
       "\n",
       "    .dataframe tbody tr th {\n",
       "        vertical-align: top;\n",
       "    }\n",
       "\n",
       "    .dataframe thead th {\n",
       "        text-align: right;\n",
       "    }\n",
       "</style>\n",
       "<table border=\"1\" class=\"dataframe\">\n",
       "  <thead>\n",
       "    <tr style=\"text-align: right;\">\n",
       "      <th></th>\n",
       "      <th>obj_ID</th>\n",
       "      <th>alpha</th>\n",
       "      <th>delta</th>\n",
       "      <th>u</th>\n",
       "      <th>g</th>\n",
       "      <th>r</th>\n",
       "      <th>i</th>\n",
       "      <th>z</th>\n",
       "      <th>run_ID</th>\n",
       "      <th>rerun_ID</th>\n",
       "      <th>cam_col</th>\n",
       "      <th>field_ID</th>\n",
       "      <th>spec_obj_ID</th>\n",
       "      <th>class</th>\n",
       "      <th>redshift</th>\n",
       "      <th>plate</th>\n",
       "      <th>MJD</th>\n",
       "      <th>fiber_ID</th>\n",
       "    </tr>\n",
       "  </thead>\n",
       "  <tbody>\n",
       "    <tr>\n",
       "      <th>0</th>\n",
       "      <td>1.237661e+18</td>\n",
       "      <td>135.689107</td>\n",
       "      <td>32.494632</td>\n",
       "      <td>23.87882</td>\n",
       "      <td>22.27530</td>\n",
       "      <td>20.39501</td>\n",
       "      <td>19.16573</td>\n",
       "      <td>18.79371</td>\n",
       "      <td>3606</td>\n",
       "      <td>301</td>\n",
       "      <td>2</td>\n",
       "      <td>79</td>\n",
       "      <td>6.543777e+18</td>\n",
       "      <td>GALAXY</td>\n",
       "      <td>0.634794</td>\n",
       "      <td>5812</td>\n",
       "      <td>56354</td>\n",
       "      <td>171</td>\n",
       "    </tr>\n",
       "    <tr>\n",
       "      <th>1</th>\n",
       "      <td>1.237665e+18</td>\n",
       "      <td>144.826101</td>\n",
       "      <td>31.274185</td>\n",
       "      <td>24.77759</td>\n",
       "      <td>22.83188</td>\n",
       "      <td>22.58444</td>\n",
       "      <td>21.16812</td>\n",
       "      <td>21.61427</td>\n",
       "      <td>4518</td>\n",
       "      <td>301</td>\n",
       "      <td>5</td>\n",
       "      <td>119</td>\n",
       "      <td>1.176014e+19</td>\n",
       "      <td>GALAXY</td>\n",
       "      <td>0.779136</td>\n",
       "      <td>10445</td>\n",
       "      <td>58158</td>\n",
       "      <td>427</td>\n",
       "    </tr>\n",
       "    <tr>\n",
       "      <th>2</th>\n",
       "      <td>1.237661e+18</td>\n",
       "      <td>142.188790</td>\n",
       "      <td>35.582444</td>\n",
       "      <td>25.26307</td>\n",
       "      <td>22.66389</td>\n",
       "      <td>20.60976</td>\n",
       "      <td>19.34857</td>\n",
       "      <td>18.94827</td>\n",
       "      <td>3606</td>\n",
       "      <td>301</td>\n",
       "      <td>2</td>\n",
       "      <td>120</td>\n",
       "      <td>5.152200e+18</td>\n",
       "      <td>GALAXY</td>\n",
       "      <td>0.644195</td>\n",
       "      <td>4576</td>\n",
       "      <td>55592</td>\n",
       "      <td>299</td>\n",
       "    </tr>\n",
       "    <tr>\n",
       "      <th>3</th>\n",
       "      <td>1.237663e+18</td>\n",
       "      <td>338.741038</td>\n",
       "      <td>-0.402828</td>\n",
       "      <td>22.13682</td>\n",
       "      <td>23.77656</td>\n",
       "      <td>21.61162</td>\n",
       "      <td>20.50454</td>\n",
       "      <td>19.25010</td>\n",
       "      <td>4192</td>\n",
       "      <td>301</td>\n",
       "      <td>3</td>\n",
       "      <td>214</td>\n",
       "      <td>1.030107e+19</td>\n",
       "      <td>GALAXY</td>\n",
       "      <td>0.932346</td>\n",
       "      <td>9149</td>\n",
       "      <td>58039</td>\n",
       "      <td>775</td>\n",
       "    </tr>\n",
       "    <tr>\n",
       "      <th>4</th>\n",
       "      <td>1.237680e+18</td>\n",
       "      <td>345.282593</td>\n",
       "      <td>21.183866</td>\n",
       "      <td>19.43718</td>\n",
       "      <td>17.58028</td>\n",
       "      <td>16.49747</td>\n",
       "      <td>15.97711</td>\n",
       "      <td>15.54461</td>\n",
       "      <td>8102</td>\n",
       "      <td>301</td>\n",
       "      <td>3</td>\n",
       "      <td>137</td>\n",
       "      <td>6.891865e+18</td>\n",
       "      <td>GALAXY</td>\n",
       "      <td>0.116123</td>\n",
       "      <td>6121</td>\n",
       "      <td>56187</td>\n",
       "      <td>842</td>\n",
       "    </tr>\n",
       "    <tr>\n",
       "      <th>...</th>\n",
       "      <td>...</td>\n",
       "      <td>...</td>\n",
       "      <td>...</td>\n",
       "      <td>...</td>\n",
       "      <td>...</td>\n",
       "      <td>...</td>\n",
       "      <td>...</td>\n",
       "      <td>...</td>\n",
       "      <td>...</td>\n",
       "      <td>...</td>\n",
       "      <td>...</td>\n",
       "      <td>...</td>\n",
       "      <td>...</td>\n",
       "      <td>...</td>\n",
       "      <td>...</td>\n",
       "      <td>...</td>\n",
       "      <td>...</td>\n",
       "      <td>...</td>\n",
       "    </tr>\n",
       "    <tr>\n",
       "      <th>99995</th>\n",
       "      <td>1.237679e+18</td>\n",
       "      <td>39.620709</td>\n",
       "      <td>-2.594074</td>\n",
       "      <td>22.16759</td>\n",
       "      <td>22.97586</td>\n",
       "      <td>21.90404</td>\n",
       "      <td>21.30548</td>\n",
       "      <td>20.73569</td>\n",
       "      <td>7778</td>\n",
       "      <td>301</td>\n",
       "      <td>2</td>\n",
       "      <td>581</td>\n",
       "      <td>1.055431e+19</td>\n",
       "      <td>GALAXY</td>\n",
       "      <td>0.000000</td>\n",
       "      <td>9374</td>\n",
       "      <td>57749</td>\n",
       "      <td>438</td>\n",
       "    </tr>\n",
       "    <tr>\n",
       "      <th>99996</th>\n",
       "      <td>1.237679e+18</td>\n",
       "      <td>29.493819</td>\n",
       "      <td>19.798874</td>\n",
       "      <td>22.69118</td>\n",
       "      <td>22.38628</td>\n",
       "      <td>20.45003</td>\n",
       "      <td>19.75759</td>\n",
       "      <td>19.41526</td>\n",
       "      <td>7917</td>\n",
       "      <td>301</td>\n",
       "      <td>1</td>\n",
       "      <td>289</td>\n",
       "      <td>8.586351e+18</td>\n",
       "      <td>GALAXY</td>\n",
       "      <td>0.404895</td>\n",
       "      <td>7626</td>\n",
       "      <td>56934</td>\n",
       "      <td>866</td>\n",
       "    </tr>\n",
       "    <tr>\n",
       "      <th>99997</th>\n",
       "      <td>1.237668e+18</td>\n",
       "      <td>224.587407</td>\n",
       "      <td>15.700707</td>\n",
       "      <td>21.16916</td>\n",
       "      <td>19.26997</td>\n",
       "      <td>18.20428</td>\n",
       "      <td>17.69034</td>\n",
       "      <td>17.35221</td>\n",
       "      <td>5314</td>\n",
       "      <td>301</td>\n",
       "      <td>4</td>\n",
       "      <td>308</td>\n",
       "      <td>3.112008e+18</td>\n",
       "      <td>GALAXY</td>\n",
       "      <td>0.143366</td>\n",
       "      <td>2764</td>\n",
       "      <td>54535</td>\n",
       "      <td>74</td>\n",
       "    </tr>\n",
       "    <tr>\n",
       "      <th>99998</th>\n",
       "      <td>1.237661e+18</td>\n",
       "      <td>212.268621</td>\n",
       "      <td>46.660365</td>\n",
       "      <td>25.35039</td>\n",
       "      <td>21.63757</td>\n",
       "      <td>19.91386</td>\n",
       "      <td>19.07254</td>\n",
       "      <td>18.62482</td>\n",
       "      <td>3650</td>\n",
       "      <td>301</td>\n",
       "      <td>4</td>\n",
       "      <td>131</td>\n",
       "      <td>7.601080e+18</td>\n",
       "      <td>GALAXY</td>\n",
       "      <td>0.455040</td>\n",
       "      <td>6751</td>\n",
       "      <td>56368</td>\n",
       "      <td>470</td>\n",
       "    </tr>\n",
       "    <tr>\n",
       "      <th>99999</th>\n",
       "      <td>1.237661e+18</td>\n",
       "      <td>196.896053</td>\n",
       "      <td>49.464643</td>\n",
       "      <td>22.62171</td>\n",
       "      <td>21.79745</td>\n",
       "      <td>20.60115</td>\n",
       "      <td>20.00959</td>\n",
       "      <td>19.28075</td>\n",
       "      <td>3650</td>\n",
       "      <td>301</td>\n",
       "      <td>4</td>\n",
       "      <td>60</td>\n",
       "      <td>8.343152e+18</td>\n",
       "      <td>GALAXY</td>\n",
       "      <td>0.542944</td>\n",
       "      <td>7410</td>\n",
       "      <td>57104</td>\n",
       "      <td>851</td>\n",
       "    </tr>\n",
       "  </tbody>\n",
       "</table>\n",
       "<p>100000 rows × 18 columns</p>\n",
       "</div>"
      ],
      "text/plain": [
       "             obj_ID       alpha      delta         u         g         r  \\\n",
       "0      1.237661e+18  135.689107  32.494632  23.87882  22.27530  20.39501   \n",
       "1      1.237665e+18  144.826101  31.274185  24.77759  22.83188  22.58444   \n",
       "2      1.237661e+18  142.188790  35.582444  25.26307  22.66389  20.60976   \n",
       "3      1.237663e+18  338.741038  -0.402828  22.13682  23.77656  21.61162   \n",
       "4      1.237680e+18  345.282593  21.183866  19.43718  17.58028  16.49747   \n",
       "...             ...         ...        ...       ...       ...       ...   \n",
       "99995  1.237679e+18   39.620709  -2.594074  22.16759  22.97586  21.90404   \n",
       "99996  1.237679e+18   29.493819  19.798874  22.69118  22.38628  20.45003   \n",
       "99997  1.237668e+18  224.587407  15.700707  21.16916  19.26997  18.20428   \n",
       "99998  1.237661e+18  212.268621  46.660365  25.35039  21.63757  19.91386   \n",
       "99999  1.237661e+18  196.896053  49.464643  22.62171  21.79745  20.60115   \n",
       "\n",
       "              i         z  run_ID  rerun_ID  cam_col  field_ID   spec_obj_ID  \\\n",
       "0      19.16573  18.79371    3606       301        2        79  6.543777e+18   \n",
       "1      21.16812  21.61427    4518       301        5       119  1.176014e+19   \n",
       "2      19.34857  18.94827    3606       301        2       120  5.152200e+18   \n",
       "3      20.50454  19.25010    4192       301        3       214  1.030107e+19   \n",
       "4      15.97711  15.54461    8102       301        3       137  6.891865e+18   \n",
       "...         ...       ...     ...       ...      ...       ...           ...   \n",
       "99995  21.30548  20.73569    7778       301        2       581  1.055431e+19   \n",
       "99996  19.75759  19.41526    7917       301        1       289  8.586351e+18   \n",
       "99997  17.69034  17.35221    5314       301        4       308  3.112008e+18   \n",
       "99998  19.07254  18.62482    3650       301        4       131  7.601080e+18   \n",
       "99999  20.00959  19.28075    3650       301        4        60  8.343152e+18   \n",
       "\n",
       "        class  redshift  plate    MJD  fiber_ID  \n",
       "0      GALAXY  0.634794   5812  56354       171  \n",
       "1      GALAXY  0.779136  10445  58158       427  \n",
       "2      GALAXY  0.644195   4576  55592       299  \n",
       "3      GALAXY  0.932346   9149  58039       775  \n",
       "4      GALAXY  0.116123   6121  56187       842  \n",
       "...       ...       ...    ...    ...       ...  \n",
       "99995  GALAXY  0.000000   9374  57749       438  \n",
       "99996  GALAXY  0.404895   7626  56934       866  \n",
       "99997  GALAXY  0.143366   2764  54535        74  \n",
       "99998  GALAXY  0.455040   6751  56368       470  \n",
       "99999  GALAXY  0.542944   7410  57104       851  \n",
       "\n",
       "[100000 rows x 18 columns]"
      ]
     },
     "execution_count": 2,
     "metadata": {},
     "output_type": "execute_result"
    }
   ],
   "source": [
    "df=pd.read_csv('star_classification.csv')\n",
    "df"
   ]
  },
  {
   "cell_type": "code",
   "execution_count": 3,
   "metadata": {},
   "outputs": [
    {
     "data": {
      "text/plain": [
       "Index(['obj_ID', 'alpha', 'delta', 'u', 'g', 'r', 'i', 'z', 'run_ID',\n",
       "       'rerun_ID', 'cam_col', 'field_ID', 'spec_obj_ID', 'class', 'redshift',\n",
       "       'plate', 'MJD', 'fiber_ID'],\n",
       "      dtype='object')"
      ]
     },
     "execution_count": 3,
     "metadata": {},
     "output_type": "execute_result"
    }
   ],
   "source": [
    "df.columns"
   ]
  },
  {
   "cell_type": "markdown",
   "metadata": {},
   "source": [
    "Galaxy-> '0'\n",
    "Quasar-> '1'\n",
    "Star-> '2'"
   ]
  },
  {
   "cell_type": "code",
   "execution_count": 4,
   "metadata": {},
   "outputs": [],
   "source": [
    "df['class']=df['class'].replace('GALAXY',0)\n",
    "df['class']=df['class'].replace('QSO',1)\n",
    "df['class']=df['class'].replace('STAR',2)"
   ]
  },
  {
   "cell_type": "code",
   "execution_count": 5,
   "metadata": {},
   "outputs": [],
   "source": [
    "X=np.array(df[['alpha', 'delta', 'u', 'g', 'r', 'i', 'z','redshift']])\n",
    "Y=np.array(df['class'])\n",
    "from sklearn.preprocessing import StandardScaler\n",
    "scaler=StandardScaler()\n",
    "X=scaler.fit(X).transform(X)\n",
    "from sklearn.model_selection import train_test_split\n",
    "X_train,X_test,Y_train,Y_test=train_test_split(X,Y,random_state=0)"
   ]
  },
  {
   "cell_type": "code",
   "execution_count": 6,
   "metadata": {},
   "outputs": [
    {
     "name": "stdout",
     "output_type": "stream",
     "text": [
      "[[14384   404    17]\n",
      " [  387  4355     1]\n",
      " [   24     1  5427]]\n",
      "Score of decision tree model\n",
      "0.96664\n"
     ]
    }
   ],
   "source": [
    "from sklearn.tree import DecisionTreeClassifier\n",
    "model1=DecisionTreeClassifier()\n",
    "model1.fit(X_train,Y_train)\n",
    "model1_Y_preds=model1.predict(X_test)\n",
    "from sklearn .metrics import confusion_matrix\n",
    "model1_conf_matrix=confusion_matrix(Y_test, model1_Y_preds)\n",
    "print(model1_conf_matrix)\n",
    "print(\"Score of decision tree model\")\n",
    "print(model1.score(X_test,Y_test))"
   ]
  },
  {
   "cell_type": "code",
   "execution_count": 7,
   "metadata": {},
   "outputs": [
    {
     "data": {
      "text/plain": [
       "<matplotlib.image.AxesImage at 0x20ca9ecf250>"
      ]
     },
     "execution_count": 7,
     "metadata": {},
     "output_type": "execute_result"
    },
    {
     "data": {
      "image/png": "[encoded data removed]",
      "text/plain": [
       "<Figure size 288x288 with 1 Axes>"
      ]
     },
     "metadata": {
      "needs_background": "light"
     },
     "output_type": "display_data"
    }
   ],
   "source": [
    "plt.matshow(model1_conf_matrix)"
   ]
  },
  {
   "cell_type": "code",
   "execution_count": 8,
   "metadata": {},
   "outputs": [
    {
     "name": "stdout",
     "output_type": "stream",
     "text": [
      "[[14607   164    34]\n",
      " [  349  4393     1]\n",
      " [    7     0  5445]]\n",
      "Score of random forests model\n",
      "0.9778\n"
     ]
    }
   ],
   "source": [
    "from sklearn.ensemble import RandomForestClassifier\n",
    "model2=RandomForestClassifier()\n",
    "model2.fit(X_train,Y_train)\n",
    "model2_Y_preds=model2.predict(X_test)\n",
    "model2_conf_matrix=confusion_matrix(Y_test, model2_Y_preds)\n",
    "print(model2_conf_matrix)\n",
    "print(\"Score of random forests model\")\n",
    "print(model2.score(X_test,Y_test))"
   ]
  },
  {
   "cell_type": "code",
   "execution_count": 9,
   "metadata": {},
   "outputs": [
    {
     "data": {
      "text/plain": [
       "<matplotlib.image.AxesImage at 0x20caa623d90>"
      ]
     },
     "execution_count": 9,
     "metadata": {},
     "output_type": "execute_result"
    },
    {
     "data": {
      "image/png": "[encoded data removed]",
      "text/plain": [
       "<Figure size 288x288 with 1 Axes>"
      ]
     },
     "metadata": {
      "needs_background": "light"
     },
     "output_type": "display_data"
    }
   ],
   "source": [
    "plt.matshow(model2_conf_matrix)"
   ]
  },
  {
   "cell_type": "markdown",
   "metadata": {},
   "source": [
    "Note here that we achieve only a slightly higher accuracy in random forsts model but require a considerably large amount of time too compute.\n",
    "so it is best to use decision tree model"
   ]
  },
  {
   "cell_type": "markdown",
   "metadata": {},
   "source": [
    "there can be plenty of kernels in SVC so analysing data previouxxly gives a clarity of which kernels to use"
   ]
  },
  {
   "cell_type": "markdown",
   "metadata": {},
   "source": [
    "USING SVM"
   ]
  },
  {
   "cell_type": "code",
   "execution_count": 10,
   "metadata": {},
   "outputs": [
    {
     "name": "stdout",
     "output_type": "stream",
     "text": [
      "[[14362   221   222]\n",
      " [  575  4164     4]\n",
      " [    0     1  5451]]\n",
      "Score of SVM model\n",
      "0.95908\n"
     ]
    }
   ],
   "source": [
    "from sklearn.svm import SVC\n",
    "model3=SVC(kernel='linear')\n",
    "model3.fit(X_train,Y_train)\n",
    "model3_Y_preds=model3.predict(X_test)\n",
    "model3_conf_matrix=confusion_matrix(Y_test, model3_Y_preds)\n",
    "print(model3_conf_matrix)\n",
    "print(\"Score of SVM model\")\n",
    "print(model3.score(X_test,Y_test))"
   ]
  },
  {
   "cell_type": "code",
   "execution_count": 11,
   "metadata": {},
   "outputs": [
    {
     "data": {
      "text/plain": [
       "<matplotlib.image.AxesImage at 0x20caa68b970>"
      ]
     },
     "execution_count": 11,
     "metadata": {},
     "output_type": "execute_result"
    },
    {
     "data": {
      "image/png": "[encoded data removed]",
      "text/plain": [
       "<Figure size 288x288 with 1 Axes>"
      ]
     },
     "metadata": {
      "needs_background": "light"
     },
     "output_type": "display_data"
    }
   ],
   "source": [
    "plt.matshow(model3_conf_matrix)"
   ]
  },
  {
   "cell_type": "code",
   "execution_count": 12,
   "metadata": {},
   "outputs": [],
   "source": [
    "#support vector classifiers have various kernels, they can be linear polynomial"
   ]
  },
  {
   "cell_type": "code",
   "execution_count": 13,
   "metadata": {},
   "outputs": [
    {
     "name": "stdout",
     "output_type": "stream",
     "text": [
      "[[14362   221   222]\n",
      " [  575  4164     4]\n",
      " [    0     1  5451]]\n",
      "Score of SVM model\n",
      "0.93928\n"
     ]
    }
   ],
   "source": [
    "from sklearn.svm import LinearSVC\n",
    "\n",
    "\n",
    "model4=LinearSVC(max_iter=4000)\n",
    "model4.fit(X_train,Y_train)\n",
    "model4_Y_preds=model3.predict(X_test)\n",
    "model4_conf_matrix=confusion_matrix(Y_test, model4_Y_preds)\n",
    "print(model4_conf_matrix)\n",
    "print(\"Score of SVM model\")\n",
    "print(model4.score(X_test,Y_test))"
   ]
  },
  {
   "cell_type": "code",
   "execution_count": 14,
   "metadata": {},
   "outputs": [
    {
     "data": {
      "text/plain": [
       "<matplotlib.image.AxesImage at 0x20caa849340>"
      ]
     },
     "execution_count": 14,
     "metadata": {},
     "output_type": "execute_result"
    },
    {
     "data": {
      "image/png": "[encoded data removed]",
      "text/plain": [
       "<Figure size 288x288 with 1 Axes>"
      ]
     },
     "metadata": {
      "needs_background": "light"
     },
     "output_type": "display_data"
    }
   ],
   "source": [
    "plt.matshow(model4_conf_matrix)"
   ]
  },
  {
   "cell_type": "code",
   "execution_count": 15,
   "metadata": {},
   "outputs": [
    {
     "name": "stdout",
     "output_type": "stream",
     "text": [
      "alpha : 0.015114905184413493\n",
      "delta : 0.014687811555353727\n",
      "u : 0.06941520958421245\n",
      "g : 0.07847220822933866\n",
      "r : 0.043486033217044015\n",
      "i : 0.06662413040928403\n",
      "z : 0.10262470552531938\n",
      "redshift : 0.6095749962950344\n"
     ]
    }
   ],
   "source": [
    "feature_importances=model2.feature_importances_\n",
    "features=['alpha', 'delta', 'u', 'g', 'r', 'i', 'z','redshift']\n",
    "for i in range(0,len(features)):\n",
    "    print(features[i],\":\",feature_importances[i])\n"
   ]
  },
  {
   "cell_type": "markdown",
   "metadata": {},
   "source": [
    "SINCE THE MOST IMPORTANT FEATURE IS THE REDSHIFT LET'S SCATTER THE PLOT WRT REDSHIFT"
   ]
  },
  {
   "cell_type": "code",
   "execution_count": 16,
   "metadata": {},
   "outputs": [],
   "source": [
    "def range_scaler(a):\n",
    "    min=np.min(a)\n",
    "    ptp=np.ptp(a)\n",
    "    for i in range(0,len(a)):\n",
    "        a[i]= (a[i] - min)/ptp\n",
    "    \n",
    "    return a "
   ]
  },
  {
   "cell_type": "code",
   "execution_count": 17,
   "metadata": {},
   "outputs": [],
   "source": [
    "dominant_features=df[['redshift','z']]\n",
    "redshift=df['redshift']\n",
    "z=df['z']\n",
    "class_zero_x=[]\n",
    "class_one_x=[]\n",
    "class_two_x=[]\n",
    "class_zero_y=[]\n",
    "class_one_y=[]\n",
    "class_two_y=[]\n",
    "for i in range(0,len(Y)):\n",
    "    if Y[i]==0:\n",
    "        class_zero_x.append(redshift[i])\n",
    "        class_zero_y.append(z[i])\n",
    "    if Y[i]==1:\n",
    "         class_one_x.append(redshift[i])\n",
    "         class_one_y.append(z[i])\n",
    "    if Y[i]==2:\n",
    "          class_two_x.append(redshift[i])\n",
    "          class_two_y.append(z[i])"
   ]
  },
  {
   "cell_type": "code",
   "execution_count": null,
   "metadata": {},
   "outputs": [],
   "source": []
  },
  {
   "cell_type": "code",
   "execution_count": 18,
   "metadata": {},
   "outputs": [],
   "source": [
    "class_zero_x=range_scaler(class_zero_x)\n",
    "class_one_x=range_scaler(class_one_x)\n",
    "class_two_x=range_scaler(class_two_x)\n",
    "class_zero_y=range_scaler(class_zero_y)\n",
    "class_one_y=range_scaler(class_one_y)\n",
    "class_two_y=range_scaler(class_two_y)"
   ]
  },
  {
   "cell_type": "code",
   "execution_count": 19,
   "metadata": {},
   "outputs": [
    {
     "data": {
      "image/png": "[encoded data removed]",
      "text/plain": [
       "<Figure size 432x288 with 1 Axes>"
      ]
     },
     "metadata": {
      "needs_background": "light"
     },
     "output_type": "display_data"
    }
   ],
   "source": [
    "plt.scatter(class_zero_x,class_zero_y,color='blue')\n",
    "plt.scatter(class_one_x,class_one_y,color='red')\n",
    "plt.scatter(class_two_x,class_two_y,color='green')\n",
    "plt.ylim(0,1)\n",
    "plt.xlabel('redshift')\n",
    "plt.ylabel('z')\n",
    "plt.show()"
   ]
  },
  {
   "cell_type": "markdown",
   "metadata": {},
   "source": [
    "Using Neural Networks to classify the stars"
   ]
  },
  {
   "cell_type": "code",
   "execution_count": 20,
   "metadata": {},
   "outputs": [],
   "source": [
    "import torch\n",
    "from torch import nn"
   ]
  },
  {
   "cell_type": "code",
   "execution_count": 21,
   "metadata": {},
   "outputs": [],
   "source": [
    "y=np.array(pd.get_dummies(df['class'],prefix='type'))\n",
    "X_train,X_test,y_train,y_test=train_test_split(X,y,random_state=0)"
   ]
  },
  {
   "cell_type": "code",
   "execution_count": 22,
   "metadata": {},
   "outputs": [
    {
     "data": {
      "text/html": [
       "<div>\n",
       "<style scoped>\n",
       "    .dataframe tbody tr th:only-of-type {\n",
       "        vertical-align: middle;\n",
       "    }\n",
       "\n",
       "    .dataframe tbody tr th {\n",
       "        vertical-align: top;\n",
       "    }\n",
       "\n",
       "    .dataframe thead th {\n",
       "        text-align: right;\n",
       "    }\n",
       "</style>\n",
       "<table border=\"1\" class=\"dataframe\">\n",
       "  <thead>\n",
       "    <tr style=\"text-align: right;\">\n",
       "      <th></th>\n",
       "      <th>0</th>\n",
       "      <th>1</th>\n",
       "      <th>2</th>\n",
       "    </tr>\n",
       "  </thead>\n",
       "  <tbody>\n",
       "    <tr>\n",
       "      <th>0</th>\n",
       "      <td>1</td>\n",
       "      <td>0</td>\n",
       "      <td>0</td>\n",
       "    </tr>\n",
       "    <tr>\n",
       "      <th>1</th>\n",
       "      <td>1</td>\n",
       "      <td>0</td>\n",
       "      <td>0</td>\n",
       "    </tr>\n",
       "    <tr>\n",
       "      <th>2</th>\n",
       "      <td>1</td>\n",
       "      <td>0</td>\n",
       "      <td>0</td>\n",
       "    </tr>\n",
       "    <tr>\n",
       "      <th>3</th>\n",
       "      <td>1</td>\n",
       "      <td>0</td>\n",
       "      <td>0</td>\n",
       "    </tr>\n",
       "    <tr>\n",
       "      <th>4</th>\n",
       "      <td>1</td>\n",
       "      <td>0</td>\n",
       "      <td>0</td>\n",
       "    </tr>\n",
       "    <tr>\n",
       "      <th>...</th>\n",
       "      <td>...</td>\n",
       "      <td>...</td>\n",
       "      <td>...</td>\n",
       "    </tr>\n",
       "    <tr>\n",
       "      <th>99995</th>\n",
       "      <td>1</td>\n",
       "      <td>0</td>\n",
       "      <td>0</td>\n",
       "    </tr>\n",
       "    <tr>\n",
       "      <th>99996</th>\n",
       "      <td>1</td>\n",
       "      <td>0</td>\n",
       "      <td>0</td>\n",
       "    </tr>\n",
       "    <tr>\n",
       "      <th>99997</th>\n",
       "      <td>1</td>\n",
       "      <td>0</td>\n",
       "      <td>0</td>\n",
       "    </tr>\n",
       "    <tr>\n",
       "      <th>99998</th>\n",
       "      <td>1</td>\n",
       "      <td>0</td>\n",
       "      <td>0</td>\n",
       "    </tr>\n",
       "    <tr>\n",
       "      <th>99999</th>\n",
       "      <td>1</td>\n",
       "      <td>0</td>\n",
       "      <td>0</td>\n",
       "    </tr>\n",
       "  </tbody>\n",
       "</table>\n",
       "<p>100000 rows × 3 columns</p>\n",
       "</div>"
      ],
      "text/plain": [
       "       0  1  2\n",
       "0      1  0  0\n",
       "1      1  0  0\n",
       "2      1  0  0\n",
       "3      1  0  0\n",
       "4      1  0  0\n",
       "...   .. .. ..\n",
       "99995  1  0  0\n",
       "99996  1  0  0\n",
       "99997  1  0  0\n",
       "99998  1  0  0\n",
       "99999  1  0  0\n",
       "\n",
       "[100000 rows x 3 columns]"
      ]
     },
     "execution_count": 22,
     "metadata": {},
     "output_type": "execute_result"
    }
   ],
   "source": [
    "pd.DataFrame(y)"
   ]
  },
  {
   "cell_type": "code",
   "execution_count": 63,
   "metadata": {},
   "outputs": [],
   "source": [
    "\n",
    "class Neural_Network(nn.Module):\n",
    "    def __init__(self,input_size,output_size):\n",
    "        super().__init__()\n",
    "        self.h1=nn.Linear(in_features=input_size,out_features=128)\n",
    "        self.h2=nn.Linear(128,256)\n",
    "        ##self.normalize=nn.BatchNorm1d(64)\n",
    "        self.h3=nn.Linear(256,128)\n",
    "        self.h4= nn.Linear(128,output_size)\n",
    "        self.activation=nn.Sigmoid()\n",
    "        ##self.dropout=nn.Dropout(0.2)\n",
    "        self.softmax=nn.Softmax(dim=1)\n",
    "    def forward(self,x):\n",
    "        x=self.h1(x)\n",
    "        x=self.activation(x)\n",
    "        x=self.h2(x)\n",
    "       # x=self.dropout(x)\n",
    "        #x=self.normalize(x)\n",
    "        x=self.activation(x)\n",
    "        x=self.h3(x)\n",
    "        x=self.activation(x)\n",
    "        x=self.h4(x)\n",
    "        x=self.softmax(x)\n",
    "        ##for i in x:\n",
    "          ##  fin.append(torch.max(i))\n",
    "        return torch.tensor(x,requires_grad=True)"
   ]
  },
  {
   "cell_type": "code",
   "execution_count": 64,
   "metadata": {},
   "outputs": [],
   "source": [
    "model=Neural_Network(input_size=8,output_size=3)"
   ]
  },
  {
   "cell_type": "code",
   "execution_count": 73,
   "metadata": {},
   "outputs": [],
   "source": [
    "from torch.utils.data import DataLoader\n",
    "train_loader_x=DataLoader(X_train,batch_size=1,shuffle=False)\n",
    "train_loader_y=DataLoader(y_train,batch_size=1,shuffle=False)\n",
    "test_loader_x=DataLoader(X_test,batch_size=1,shuffle=False)\n",
    "test_loader_y=DataLoader(y_test,batch_size=1,shuffle=False)"
   ]
  },
  {
   "cell_type": "code",
   "execution_count": 74,
   "metadata": {},
   "outputs": [],
   "source": [
    "x_loader=[]\n",
    "y_loader=[]\n",
    "for i in train_loader_x:\n",
    "    x_loader.append(i)\n",
    "for j in train_loader_y:\n",
    "    y_loader.append(j)"
   ]
  },
  {
   "cell_type": "code",
   "execution_count": 85,
   "metadata": {},
   "outputs": [
    {
     "name": "stderr",
     "output_type": "stream",
     "text": [
      "C:\\Users\\ved14\\AppData\\Local\\Temp/ipykernel_38716/319511672.py:25: UserWarning: To copy construct from a tensor, it is recommended to use sourceTensor.clone().detach() or sourceTensor.clone().detach().requires_grad_(True), rather than torch.tensor(sourceTensor).\n",
      "  return torch.tensor(x,requires_grad=True)\n"
     ]
    }
   ],
   "source": [
    "optimizer=torch.optim.SGD(lr=0.0001,params=model.parameters())\n",
    "criterion=torch.nn.CrossEntropyLoss()\n",
    "criterion1=torch.nn.MSELoss()\n",
    "n_epochs=200\n",
    "loss_list=[]\n",
    "val_loss_list=[]\n",
    "import random\n",
    "for j in range(n_epochs):\n",
    "    optimizer.zero_grad()\n",
    "    current=random.randint(0,10000)\n",
    "    X_batch=x_loader[current]\n",
    "    y_batch=y_loader[current]\n",
    "    preds=model(torch.Tensor(X_batch.float()))\n",
    "    loss=criterion(torch.Tensor(preds),torch.Tensor(y_batch.float()))\n",
    "    ##val_loss=criterion(torch.Tensor(model(torch.Tensor(X_test))),torch.Tensor(y_test))\n",
    "    loss.backward()\n",
    "    loss_list.append(loss.item())\n",
    "       ## val_loss_list.append(val_loss.item())\n",
    "    optimizer.step()\n",
    "       "
   ]
  },
  {
   "cell_type": "code",
   "execution_count": 86,
   "metadata": {},
   "outputs": [
    {
     "data": {
      "text/plain": [
       "[<matplotlib.lines.Line2D at 0x20cc07eefd0>]"
      ]
     },
     "execution_count": 86,
     "metadata": {},
     "output_type": "execute_result"
    },
    {
     "data": {
      "image/png": "[encoded data removed]",
      "text/plain": [
       "<Figure size 432x288 with 1 Axes>"
      ]
     },
     "metadata": {
      "needs_background": "light"
     },
     "output_type": "display_data"
    }
   ],
   "source": [
    "plt.plot(loss_list)"
   ]
  },
  {
   "cell_type": "code",
   "execution_count": 80,
   "metadata": {},
   "outputs": [
    {
     "data": {
      "text/plain": [
       "[1.0477924346923828,\n",
       " 1.0477924346923828,\n",
       " 1.0477924346923828,\n",
       " 1.0477924346923828,\n",
       " 1.0477924346923828,\n",
       " 1.0477924346923828,\n",
       " 1.0477924346923828,\n",
       " 1.0477924346923828,\n",
       " 1.0477924346923828,\n",
       " 1.0477924346923828,\n",
       " 1.0477924346923828,\n",
       " 1.0477924346923828,\n",
       " 1.0477924346923828,\n",
       " 1.0477924346923828,\n",
       " 1.0477924346923828,\n",
       " 1.0477924346923828,\n",
       " 1.0477924346923828,\n",
       " 1.0477924346923828,\n",
       " 1.0477924346923828,\n",
       " 1.0477924346923828,\n",
       " 1.0477924346923828,\n",
       " 1.0477924346923828,\n",
       " 1.0477924346923828,\n",
       " 1.0477924346923828,\n",
       " 1.0477924346923828,\n",
       " 1.0477924346923828,\n",
       " 1.0477924346923828,\n",
       " 1.0477924346923828,\n",
       " 1.0477924346923828,\n",
       " 1.0477924346923828,\n",
       " 1.0477924346923828,\n",
       " 1.0477924346923828,\n",
       " 1.0477924346923828,\n",
       " 1.0477924346923828,\n",
       " 1.0477924346923828,\n",
       " 1.0477924346923828,\n",
       " 1.0477924346923828,\n",
       " 1.0477924346923828,\n",
       " 1.0477924346923828,\n",
       " 1.0477924346923828,\n",
       " 1.0477924346923828,\n",
       " 1.0477924346923828,\n",
       " 1.0477924346923828,\n",
       " 1.0477924346923828,\n",
       " 1.0477924346923828,\n",
       " 1.0477924346923828,\n",
       " 1.0477924346923828,\n",
       " 1.0477924346923828,\n",
       " 1.0477924346923828,\n",
       " 1.0477924346923828,\n",
       " 1.0477924346923828,\n",
       " 1.0477924346923828,\n",
       " 1.0477924346923828,\n",
       " 1.0477924346923828,\n",
       " 1.0477924346923828,\n",
       " 1.0477924346923828,\n",
       " 1.0477924346923828,\n",
       " 1.0477924346923828,\n",
       " 1.0477924346923828,\n",
       " 1.0477924346923828,\n",
       " 1.0477924346923828,\n",
       " 1.0477924346923828,\n",
       " 1.0477924346923828,\n",
       " 1.0477924346923828,\n",
       " 1.0477924346923828,\n",
       " 1.0477924346923828,\n",
       " 1.0477924346923828,\n",
       " 1.0477924346923828,\n",
       " 1.0477924346923828,\n",
       " 1.0477924346923828,\n",
       " 1.0477924346923828,\n",
       " 1.0477924346923828,\n",
       " 1.0477924346923828,\n",
       " 1.0477924346923828,\n",
       " 1.0477924346923828,\n",
       " 1.0477924346923828,\n",
       " 1.0477924346923828,\n",
       " 1.0477924346923828,\n",
       " 1.0477924346923828,\n",
       " 1.0477924346923828,\n",
       " 1.0477924346923828,\n",
       " 1.0477924346923828,\n",
       " 1.0477924346923828,\n",
       " 1.0477924346923828,\n",
       " 1.0477924346923828,\n",
       " 1.0477924346923828,\n",
       " 1.0477924346923828,\n",
       " 1.0477924346923828,\n",
       " 1.0477924346923828,\n",
       " 1.0477924346923828,\n",
       " 1.0477924346923828,\n",
       " 1.0477924346923828,\n",
       " 1.0477924346923828,\n",
       " 1.0477924346923828,\n",
       " 1.0477924346923828,\n",
       " 1.0477924346923828,\n",
       " 1.0477924346923828,\n",
       " 1.0477924346923828,\n",
       " 1.0477924346923828,\n",
       " 1.0477924346923828,\n",
       " 1.0477924346923828,\n",
       " 1.0477924346923828,\n",
       " 1.0477924346923828,\n",
       " 1.0477924346923828,\n",
       " 1.0477924346923828,\n",
       " 1.0477924346923828,\n",
       " 1.0477924346923828,\n",
       " 1.0477924346923828,\n",
       " 1.0477924346923828,\n",
       " 1.0477924346923828,\n",
       " 1.0477924346923828,\n",
       " 1.0477924346923828,\n",
       " 1.0477924346923828,\n",
       " 1.0477924346923828,\n",
       " 1.0477924346923828,\n",
       " 1.0477924346923828,\n",
       " 1.0477924346923828,\n",
       " 1.0477924346923828,\n",
       " 1.0477924346923828,\n",
       " 1.0477924346923828,\n",
       " 1.0477924346923828,\n",
       " 1.0477924346923828,\n",
       " 1.0477924346923828,\n",
       " 1.0477924346923828,\n",
       " 1.0477924346923828,\n",
       " 1.0477924346923828,\n",
       " 1.0477924346923828,\n",
       " 1.0477924346923828,\n",
       " 1.0477924346923828,\n",
       " 1.0477924346923828,\n",
       " 1.0477924346923828,\n",
       " 1.0477924346923828,\n",
       " 1.0477924346923828,\n",
       " 1.0477924346923828,\n",
       " 1.0477924346923828,\n",
       " 1.0477924346923828,\n",
       " 1.0477924346923828,\n",
       " 1.0477924346923828,\n",
       " 1.0477924346923828,\n",
       " 1.0477924346923828,\n",
       " 1.0477924346923828,\n",
       " 1.0477924346923828,\n",
       " 1.0477924346923828,\n",
       " 1.0477924346923828,\n",
       " 1.0477924346923828,\n",
       " 1.0477924346923828,\n",
       " 1.0477924346923828,\n",
       " 1.0477924346923828,\n",
       " 1.0477924346923828,\n",
       " 1.0477924346923828,\n",
       " 1.0477924346923828,\n",
       " 1.0477924346923828,\n",
       " 1.0477924346923828,\n",
       " 1.0477924346923828,\n",
       " 1.0477924346923828,\n",
       " 1.0477924346923828,\n",
       " 1.0477924346923828,\n",
       " 1.0477924346923828,\n",
       " 1.0477924346923828,\n",
       " 1.0477924346923828,\n",
       " 1.0477924346923828,\n",
       " 1.0477924346923828,\n",
       " 1.0477924346923828,\n",
       " 1.0477924346923828,\n",
       " 1.0477924346923828,\n",
       " 1.0477924346923828,\n",
       " 1.0477924346923828,\n",
       " 1.0477924346923828,\n",
       " 1.0477924346923828,\n",
       " 1.0477924346923828,\n",
       " 1.0477924346923828,\n",
       " 1.0477924346923828,\n",
       " 1.0477924346923828,\n",
       " 1.0477924346923828,\n",
       " 1.0477924346923828,\n",
       " 1.0477924346923828,\n",
       " 1.0477924346923828,\n",
       " 1.0477924346923828,\n",
       " 1.0477924346923828,\n",
       " 1.0477924346923828,\n",
       " 1.0477924346923828,\n",
       " 1.0477924346923828,\n",
       " 1.0477924346923828,\n",
       " 1.0477924346923828,\n",
       " 1.0477924346923828,\n",
       " 1.0477924346923828,\n",
       " 1.0477924346923828,\n",
       " 1.0477924346923828,\n",
       " 1.0477924346923828,\n",
       " 1.0477924346923828,\n",
       " 1.0477924346923828,\n",
       " 1.0477924346923828,\n",
       " 1.0477924346923828,\n",
       " 1.0477924346923828,\n",
       " 1.0477924346923828,\n",
       " 1.0477924346923828,\n",
       " 1.0477924346923828,\n",
       " 1.0477924346923828,\n",
       " 1.0477924346923828,\n",
       " 1.0477924346923828,\n",
       " 1.0477924346923828,\n",
       " 1.0477924346923828,\n",
       " 1.0477924346923828,\n",
       " 1.0477924346923828,\n",
       " 1.0477924346923828,\n",
       " 1.0477924346923828,\n",
       " 1.0477924346923828,\n",
       " 1.0477924346923828,\n",
       " 1.0477924346923828,\n",
       " 1.0477924346923828,\n",
       " 1.0477924346923828,\n",
       " 1.0477924346923828,\n",
       " 1.0477924346923828,\n",
       " 1.0477924346923828,\n",
       " 1.0477924346923828,\n",
       " 1.0477924346923828,\n",
       " 1.0477924346923828,\n",
       " 1.0477924346923828,\n",
       " 1.0477924346923828,\n",
       " 1.0477924346923828,\n",
       " 1.0477924346923828,\n",
       " 1.0477924346923828,\n",
       " 1.0477924346923828,\n",
       " 1.0477924346923828,\n",
       " 1.0477924346923828,\n",
       " 1.0477924346923828,\n",
       " 1.0477924346923828,\n",
       " 1.0477924346923828,\n",
       " 1.0477924346923828,\n",
       " 1.0477924346923828,\n",
       " 1.0477924346923828,\n",
       " 1.0477924346923828,\n",
       " 1.0477924346923828,\n",
       " 1.0477924346923828,\n",
       " 1.0477924346923828,\n",
       " 1.0477924346923828,\n",
       " 1.0477924346923828,\n",
       " 1.0477924346923828,\n",
       " 1.0477924346923828,\n",
       " 1.0477924346923828,\n",
       " 1.0477924346923828,\n",
       " 1.0477924346923828,\n",
       " 1.0477924346923828,\n",
       " 1.0477924346923828,\n",
       " 1.0477924346923828,\n",
       " 1.0477924346923828,\n",
       " 1.0477924346923828,\n",
       " 1.0477924346923828,\n",
       " 1.0477924346923828,\n",
       " 1.0477924346923828,\n",
       " 1.0477924346923828,\n",
       " 1.0477924346923828,\n",
       " 1.0477924346923828,\n",
       " 1.0477924346923828,\n",
       " 1.0477924346923828,\n",
       " 1.0477924346923828,\n",
       " 1.0477924346923828,\n",
       " 1.0477924346923828,\n",
       " 1.0477924346923828,\n",
       " 1.0477924346923828,\n",
       " 1.0477924346923828,\n",
       " 1.0477924346923828,\n",
       " 1.0477924346923828,\n",
       " 1.0477924346923828,\n",
       " 1.0477924346923828,\n",
       " 1.0477924346923828,\n",
       " 1.0477924346923828,\n",
       " 1.0477924346923828,\n",
       " 1.0477924346923828,\n",
       " 1.0477924346923828,\n",
       " 1.0477924346923828,\n",
       " 1.0477924346923828,\n",
       " 1.0477924346923828,\n",
       " 1.0477924346923828,\n",
       " 1.0477924346923828,\n",
       " 1.0477924346923828,\n",
       " 1.0477924346923828,\n",
       " 1.0477924346923828,\n",
       " 1.0477924346923828,\n",
       " 1.0477924346923828,\n",
       " 1.0477924346923828,\n",
       " 1.0477924346923828,\n",
       " 1.0477924346923828,\n",
       " 1.0477924346923828,\n",
       " 1.0477924346923828,\n",
       " 1.0477924346923828,\n",
       " 1.0477924346923828,\n",
       " 1.0477924346923828,\n",
       " 1.0477924346923828,\n",
       " 1.0477924346923828,\n",
       " 1.0477924346923828,\n",
       " 1.0477924346923828,\n",
       " 1.0477924346923828,\n",
       " 1.0477924346923828,\n",
       " 1.0477924346923828,\n",
       " 1.0477924346923828,\n",
       " 1.0477924346923828,\n",
       " 1.0477924346923828,\n",
       " 1.0477924346923828,\n",
       " 1.0477924346923828,\n",
       " 1.0477924346923828,\n",
       " 1.0477924346923828,\n",
       " 1.0477924346923828,\n",
       " 1.0477924346923828,\n",
       " 1.0477924346923828,\n",
       " 1.0477924346923828,\n",
       " 1.0477924346923828,\n",
       " 1.0477924346923828,\n",
       " 1.0477924346923828,\n",
       " 1.0477924346923828,\n",
       " 1.0477924346923828,\n",
       " 1.0477924346923828,\n",
       " 1.0477924346923828,\n",
       " 1.0477924346923828,\n",
       " 1.0477924346923828,\n",
       " 1.0477924346923828,\n",
       " 1.0477924346923828,\n",
       " 1.0477924346923828,\n",
       " 1.0477924346923828,\n",
       " 1.0477924346923828,\n",
       " 1.0477924346923828,\n",
       " 1.0477924346923828,\n",
       " 1.0477924346923828,\n",
       " 1.0477924346923828,\n",
       " 1.0477924346923828,\n",
       " 1.0477924346923828,\n",
       " 1.0477924346923828,\n",
       " 1.0477924346923828,\n",
       " 1.0477924346923828,\n",
       " 1.0477924346923828,\n",
       " 1.0477924346923828,\n",
       " 1.0477924346923828,\n",
       " 1.0477924346923828,\n",
       " 1.0477924346923828,\n",
       " 1.0477924346923828,\n",
       " 1.0477924346923828,\n",
       " 1.0477924346923828,\n",
       " 1.0477924346923828,\n",
       " 1.0477924346923828,\n",
       " 1.0477924346923828,\n",
       " 1.0477924346923828,\n",
       " 1.0477924346923828,\n",
       " 1.0477924346923828,\n",
       " 1.0477924346923828,\n",
       " 1.0477924346923828,\n",
       " 1.0477924346923828,\n",
       " 1.0477924346923828,\n",
       " 1.0477924346923828,\n",
       " 1.0477924346923828,\n",
       " 1.0477924346923828,\n",
       " 1.0477924346923828,\n",
       " 1.0477924346923828,\n",
       " 1.0477924346923828,\n",
       " 1.0477924346923828,\n",
       " 1.0477924346923828,\n",
       " 1.0477924346923828,\n",
       " 1.0477924346923828,\n",
       " 1.0477924346923828,\n",
       " 1.0477924346923828,\n",
       " 1.0477924346923828,\n",
       " 1.0477924346923828,\n",
       " 1.0477924346923828,\n",
       " 1.0477924346923828,\n",
       " 1.0477924346923828,\n",
       " 1.0477924346923828,\n",
       " 1.0477924346923828,\n",
       " 1.0477924346923828,\n",
       " 1.0477924346923828,\n",
       " 1.0477924346923828,\n",
       " 1.0477924346923828,\n",
       " 1.0477924346923828,\n",
       " 1.0477924346923828,\n",
       " 1.0477924346923828,\n",
       " 1.0477924346923828,\n",
       " 1.0477924346923828,\n",
       " 1.0477924346923828,\n",
       " 1.0477924346923828,\n",
       " 1.0477924346923828,\n",
       " 1.0477924346923828,\n",
       " 1.0477924346923828,\n",
       " 1.0477924346923828,\n",
       " 1.0477924346923828,\n",
       " 1.0477924346923828,\n",
       " 1.0477924346923828,\n",
       " 1.0477924346923828,\n",
       " 1.0477924346923828,\n",
       " 1.0477924346923828,\n",
       " 1.0477924346923828,\n",
       " 1.0477924346923828,\n",
       " 1.0477924346923828,\n",
       " 1.0477924346923828,\n",
       " 1.0477924346923828,\n",
       " 1.0477924346923828,\n",
       " 1.0477924346923828,\n",
       " 1.0477924346923828,\n",
       " 1.0477924346923828,\n",
       " 1.0477924346923828,\n",
       " 1.0477924346923828,\n",
       " 1.0477924346923828,\n",
       " 1.0477924346923828]"
      ]
     },
     "execution_count": 80,
     "metadata": {},
     "output_type": "execute_result"
    }
   ],
   "source": [
    "val_loss_list"
   ]
  },
  {
   "cell_type": "code",
   "execution_count": 49,
   "metadata": {},
   "outputs": [
    {
     "name": "stderr",
     "output_type": "stream",
     "text": [
      "C:\\Users\\ved14\\AppData\\Local\\Temp/ipykernel_38716/319511672.py:25: UserWarning: To copy construct from a tensor, it is recommended to use sourceTensor.clone().detach() or sourceTensor.clone().detach().requires_grad_(True), rather than torch.tensor(sourceTensor).\n",
      "  return torch.tensor(x,requires_grad=True)\n"
     ]
    }
   ],
   "source": [
    "nn_preds=model(torch.Tensor(X_test))\n",
    "preds=[]\n",
    "for i in nn_preds.detach().numpy():\n",
    "    preds.append(np.argmax(i))"
   ]
  },
  {
   "cell_type": "code",
   "execution_count": 61,
   "metadata": {},
   "outputs": [
    {
     "data": {
      "text/plain": [
       "1172"
      ]
     },
     "execution_count": 61,
     "metadata": {},
     "output_type": "execute_result"
    }
   ],
   "source": [
    "#to be continued"
   ]
  },
  {
   "cell_type": "code",
   "execution_count": null,
   "metadata": {},
   "outputs": [],
   "source": []
  }
 ],
 "metadata": {
  "kernelspec": {
   "display_name": "Python 3 (ipykernel)",
   "language": "python",
   "name": "python3"
  },
  "language_info": {
   "codemirror_mode": {
    "name": "ipython",
    "version": 3
   },
   "file_extension": ".py",
   "mimetype": "text/x-python",
   "name": "python",
   "nbconvert_exporter": "python",
   "pygments_lexer": "ipython3",
   "version": "3.9.7"
  },
  "vscode": {
   "interpreter": {
    "hash": "67476e7b2eebdf61c36d4be82795ef8623bef5b7a84722524e87d3a41c775da8"
   }
  }
 },
 "nbformat": 4,
 "nbformat_minor": 2
}
